{
 "metadata": {
  "language_info": {
   "codemirror_mode": {
    "name": "ipython",
    "version": 3
   },
   "file_extension": ".py",
   "mimetype": "text/x-python",
   "name": "python",
   "nbconvert_exporter": "python",
   "pygments_lexer": "ipython3",
   "version": "3.8.5"
  },
  "orig_nbformat": 2,
  "kernelspec": {
   "name": "python385jvsc74a57bd02027ed254ae4a5c2169c5207c271db216f277887dc15785b115427377e712b5d",
   "display_name": "Python 3.8.5 64-bit"
  },
  "metadata": {
   "interpreter": {
    "hash": "2027ed254ae4a5c2169c5207c271db216f277887dc15785b115427377e712b5d"
   }
  }
 },
 "nbformat": 4,
 "nbformat_minor": 2,
 "cells": [
  {
   "source": [
    "# 導入套件"
   ],
   "cell_type": "markdown",
   "metadata": {}
  },
  {
   "cell_type": "code",
   "execution_count": 10,
   "metadata": {},
   "outputs": [],
   "source": [
    "%matplotlib inline\n",
    "import pandas as pd\n",
    "import matplotlib.pyplot as plt\n",
    "import plotly.express as px\n",
    "from sklearn.manifold import MDS"
   ]
  },
  {
   "source": [
    "# 讀檔"
   ],
   "cell_type": "markdown",
   "metadata": {}
  },
  {
   "cell_type": "code",
   "execution_count": 11,
   "metadata": {},
   "outputs": [
    {
     "output_type": "execute_result",
     "data": {
      "text/plain": [
       "       里程數\n",
       "台北    5904\n",
       "桃園   42285\n",
       "新竹   72179\n",
       "台中  165733\n",
       "雲林  218480\n",
       "台南  313860\n",
       "高雄  345188"
      ],
      "text/html": "<div>\n<style scoped>\n    .dataframe tbody tr th:only-of-type {\n        vertical-align: middle;\n    }\n\n    .dataframe tbody tr th {\n        vertical-align: top;\n    }\n\n    .dataframe thead th {\n        text-align: right;\n    }\n</style>\n<table border=\"1\" class=\"dataframe\">\n  <thead>\n    <tr style=\"text-align: right;\">\n      <th></th>\n      <th>里程數</th>\n    </tr>\n  </thead>\n  <tbody>\n    <tr>\n      <th>台北</th>\n      <td>5904</td>\n    </tr>\n    <tr>\n      <th>桃園</th>\n      <td>42285</td>\n    </tr>\n    <tr>\n      <th>新竹</th>\n      <td>72179</td>\n    </tr>\n    <tr>\n      <th>台中</th>\n      <td>165733</td>\n    </tr>\n    <tr>\n      <th>雲林</th>\n      <td>218480</td>\n    </tr>\n    <tr>\n      <th>台南</th>\n      <td>313860</td>\n    </tr>\n    <tr>\n      <th>高雄</th>\n      <td>345188</td>\n    </tr>\n  </tbody>\n</table>\n</div>"
     },
     "metadata": {},
     "execution_count": 11
    }
   ],
   "source": [
    "df = pd.read_csv('./data/distance.csv', index_col='Unnamed: 0')\n",
    "df"
   ]
  },
  {
   "source": [
    "# 正規化"
   ],
   "cell_type": "markdown",
   "metadata": {}
  },
  {
   "cell_type": "code",
   "execution_count": 12,
   "metadata": {},
   "outputs": [
    {
     "output_type": "execute_result",
     "data": {
      "text/plain": [
       "         里程數\n",
       "台北 -1.203613\n",
       "桃園 -0.930495\n",
       "新竹 -0.706076\n",
       "台中 -0.003751\n",
       "雲林  0.392229\n",
       "台南  1.108262\n",
       "高雄  1.343446"
      ],
      "text/html": "<div>\n<style scoped>\n    .dataframe tbody tr th:only-of-type {\n        vertical-align: middle;\n    }\n\n    .dataframe tbody tr th {\n        vertical-align: top;\n    }\n\n    .dataframe thead th {\n        text-align: right;\n    }\n</style>\n<table border=\"1\" class=\"dataframe\">\n  <thead>\n    <tr style=\"text-align: right;\">\n      <th></th>\n      <th>里程數</th>\n    </tr>\n  </thead>\n  <tbody>\n    <tr>\n      <th>台北</th>\n      <td>-1.203613</td>\n    </tr>\n    <tr>\n      <th>桃園</th>\n      <td>-0.930495</td>\n    </tr>\n    <tr>\n      <th>新竹</th>\n      <td>-0.706076</td>\n    </tr>\n    <tr>\n      <th>台中</th>\n      <td>-0.003751</td>\n    </tr>\n    <tr>\n      <th>雲林</th>\n      <td>0.392229</td>\n    </tr>\n    <tr>\n      <th>台南</th>\n      <td>1.108262</td>\n    </tr>\n    <tr>\n      <th>高雄</th>\n      <td>1.343446</td>\n    </tr>\n  </tbody>\n</table>\n</div>"
     },
     "metadata": {},
     "execution_count": 12
    }
   ],
   "source": [
    "df['里程數'] = (df['里程數'] - df['里程數'].mean()) / df['里程數'].std()\n",
    "df"
   ]
  },
  {
   "source": [
    "# MDS轉換"
   ],
   "cell_type": "markdown",
   "metadata": {}
  },
  {
   "cell_type": "code",
   "execution_count": 13,
   "metadata": {},
   "outputs": [],
   "source": [
    "mds = MDS(n_components=2, random_state=4)\n",
    "transform = mds.fit_transform(df)"
   ]
  },
  {
   "cell_type": "code",
   "execution_count": 14,
   "metadata": {},
   "outputs": [
    {
     "output_type": "execute_result",
     "data": {
      "text/plain": [
       "array([[ 1.12345128, -0.40890212],\n",
       "       [ 0.8857306 , -0.24054636],\n",
       "       [ 0.63036191, -0.34557444],\n",
       "       [-0.08349722, -0.20694714],\n",
       "       [-0.37578663,  0.10633906],\n",
       "       [-0.96847902,  0.52915942],\n",
       "       [-1.21178092,  0.56647158]])"
      ]
     },
     "metadata": {},
     "execution_count": 14
    }
   ],
   "source": [
    "transform"
   ]
  },
  {
   "source": [
    "# Dash互動式圖表"
   ],
   "cell_type": "markdown",
   "metadata": {}
  },
  {
   "cell_type": "code",
   "execution_count": 15,
   "metadata": {},
   "outputs": [
    {
     "output_type": "execute_result",
     "data": {
      "text/plain": [
       "          x         y       City\n",
       "0  1.123451 -0.408902     Taipei\n",
       "1  0.885731 -0.240546    Taoyuan\n",
       "2  0.630362 -0.345574    Hsinchu\n",
       "3 -0.083497 -0.206947   Taichung\n",
       "4 -0.375787  0.106339     Yunlin\n",
       "5 -0.968479  0.529159     Tainan\n",
       "6 -1.211781  0.566472  Kaohsiung"
      ],
      "text/html": "<div>\n<style scoped>\n    .dataframe tbody tr th:only-of-type {\n        vertical-align: middle;\n    }\n\n    .dataframe tbody tr th {\n        vertical-align: top;\n    }\n\n    .dataframe thead th {\n        text-align: right;\n    }\n</style>\n<table border=\"1\" class=\"dataframe\">\n  <thead>\n    <tr style=\"text-align: right;\">\n      <th></th>\n      <th>x</th>\n      <th>y</th>\n      <th>City</th>\n    </tr>\n  </thead>\n  <tbody>\n    <tr>\n      <th>0</th>\n      <td>1.123451</td>\n      <td>-0.408902</td>\n      <td>Taipei</td>\n    </tr>\n    <tr>\n      <th>1</th>\n      <td>0.885731</td>\n      <td>-0.240546</td>\n      <td>Taoyuan</td>\n    </tr>\n    <tr>\n      <th>2</th>\n      <td>0.630362</td>\n      <td>-0.345574</td>\n      <td>Hsinchu</td>\n    </tr>\n    <tr>\n      <th>3</th>\n      <td>-0.083497</td>\n      <td>-0.206947</td>\n      <td>Taichung</td>\n    </tr>\n    <tr>\n      <th>4</th>\n      <td>-0.375787</td>\n      <td>0.106339</td>\n      <td>Yunlin</td>\n    </tr>\n    <tr>\n      <th>5</th>\n      <td>-0.968479</td>\n      <td>0.529159</td>\n      <td>Tainan</td>\n    </tr>\n    <tr>\n      <th>6</th>\n      <td>-1.211781</td>\n      <td>0.566472</td>\n      <td>Kaohsiung</td>\n    </tr>\n  </tbody>\n</table>\n</div>"
     },
     "metadata": {},
     "execution_count": 15
    }
   ],
   "source": [
    "tf = pd.DataFrame(transform, columns=['x', 'y'])\n",
    "tf['City'] = ['Taipei', 'Taoyuan', 'Hsinchu', 'Taichung', 'Yunlin', 'Tainan', 'Kaohsiung']\n",
    "tf"
   ]
  },
  {
   "cell_type": "code",
   "execution_count": 16,
   "metadata": {},
   "outputs": [],
   "source": [
    "fig = px.scatter(tf, x='x', y='y', color='City', hover_name='City')"
   ]
  },
  {
   "cell_type": "code",
   "execution_count": 9,
   "metadata": {
    "tags": []
   },
   "outputs": [
    {
     "output_type": "stream",
     "name": "stdout",
     "text": [
      "Dash is running on http://127.0.0.1:8050/\n",
      "\n",
      " * Serving Flask app '__main__' (lazy loading)\n",
      " * Environment: production\n",
      "\u001b[31m   WARNING: This is a development server. Do not use it in a production deployment.\u001b[0m\n",
      "\u001b[2m   Use a production WSGI server instead.\u001b[0m\n",
      " * Debug mode: off\n",
      " * Running on http://127.0.0.1:8050/ (Press CTRL+C to quit)\n",
      "127.0.0.1 - - [02/Jun/2021 12:19:57] \"GET / HTTP/1.1\" 200 -\n",
      "127.0.0.1 - - [02/Jun/2021 12:19:57] \"GET /_dash-component-suites/dash_renderer/prop-types@15.v1_9_1m1622197604.7.2.min.js HTTP/1.1\" 200 -\n",
      "127.0.0.1 - - [02/Jun/2021 12:19:57] \"GET /_dash-component-suites/dash_renderer/react@16.v1_9_1m1622197604.14.0.min.js HTTP/1.1\" 200 -\n",
      "127.0.0.1 - - [02/Jun/2021 12:19:57] \"GET /_dash-component-suites/dash_core_components/dash_core_components-shared.v1_16_0m1622197605.js HTTP/1.1\" 200 -\n",
      "127.0.0.1 - - [02/Jun/2021 12:19:57] \"GET /_dash-component-suites/dash_renderer/polyfill@7.v1_9_1m1622197604.8.7.min.js HTTP/1.1\" 200 -\n",
      "127.0.0.1 - - [02/Jun/2021 12:19:57] \"GET /_dash-component-suites/dash_renderer/react-dom@16.v1_9_1m1622197604.14.0.min.js HTTP/1.1\" 200 -\n",
      "127.0.0.1 - - [02/Jun/2021 12:19:57] \"GET /_dash-component-suites/dash_core_components/dash_core_components.v1_16_0m1622197605.min.js HTTP/1.1\" 200 -\n",
      "127.0.0.1 - - [02/Jun/2021 12:19:57] \"GET /_dash-component-suites/dash_html_components/dash_html_components.v1_1_3m1622197604.min.js HTTP/1.1\" 200 -\n",
      "127.0.0.1 - - [02/Jun/2021 12:19:57] \"GET /_dash-component-suites/dash_renderer/dash_renderer.v1_9_1m1622197604.min.js HTTP/1.1\" 200 -\n",
      "127.0.0.1 - - [02/Jun/2021 12:19:58] \"GET /_dash-dependencies HTTP/1.1\" 200 -\n",
      "127.0.0.1 - - [02/Jun/2021 12:19:58] \"GET /_dash-layout HTTP/1.1\" 200 -\n",
      "127.0.0.1 - - [02/Jun/2021 12:19:58] \"POST /_dash-update-component HTTP/1.1\" 200 -\n",
      "127.0.0.1 - - [02/Jun/2021 12:19:58] \"POST /_dash-update-component HTTP/1.1\" 200 -\n",
      "127.0.0.1 - - [02/Jun/2021 12:19:58] \"POST /_dash-update-component HTTP/1.1\" 200 -\n",
      "127.0.0.1 - - [02/Jun/2021 12:19:59] \"POST /_dash-update-component HTTP/1.1\" 200 -\n",
      "127.0.0.1 - - [02/Jun/2021 12:20:03] \"POST /_dash-update-component HTTP/1.1\" 200 -\n",
      "127.0.0.1 - - [02/Jun/2021 12:20:04] \"POST /_dash-update-component HTTP/1.1\" 200 -\n"
     ]
    }
   ],
   "source": [
    "import dash\n",
    "from dash.dependencies import Input, Output\n",
    "import dash_core_components as dcc\n",
    "import dash_html_components as html\n",
    "import json\n",
    "\n",
    "external_stylesheets = ['https://codepen.io/chriddyp/pen/bWLwgP.css']\n",
    "\n",
    "app = dash.Dash(__name__, external_stylesheets=external_stylesheets)\n",
    "\n",
    "app.layout = html.Div([\n",
    "    dcc.Graph(\n",
    "        id='basic-interactions',\n",
    "        figure=fig\n",
    "    ),\n",
    "\n",
    "    html.Div([\n",
    "        dcc.Markdown(\"\"\"\n",
    "            **Hover Data**\n",
    "\n",
    "            Mouse over values in the graph.\n",
    "        \"\"\".replace('   ', '')),\n",
    "        html.Pre(id='hover-data')\n",
    "    ]),\n",
    "\n",
    "    html.Div([\n",
    "        dcc.Markdown(\"\"\"\n",
    "            **Click Data**\n",
    "\n",
    "            Click on points in the graph.\n",
    "        \"\"\".replace('    ', '')),\n",
    "        html.Pre(id='click-data'),\n",
    "    ]),\n",
    "\n",
    "    html.Div([\n",
    "        dcc.Markdown(\"\"\"\n",
    "            **Selection Data**\n",
    "\n",
    "            Choose the lasso or rectangle tool in the graph's menu\n",
    "            bar and then select points in the graph.\n",
    "        \"\"\".replace('    ', '')),\n",
    "        html.Pre(id='selected-data'),\n",
    "    ])\n",
    "])\n",
    "\n",
    "\n",
    "@app.callback(\n",
    "    Output('hover-data', 'children'),\n",
    "    [Input('basic-interactions', 'hoverData')])\n",
    "def display_hover_data(hoverData):\n",
    "    #\n",
    "    # This is where you can access the hover data\n",
    "    # This function will get called automatically when you hover over points\n",
    "    # hoverData will be equal to an object with that data\n",
    "    # You can compute something off of this data, and return it to the front-end UI\n",
    "    # \n",
    "\n",
    "\n",
    "    return json.dumps(hoverData, indent=2)\n",
    "\n",
    "\n",
    "@app.callback(\n",
    "    Output('click-data', 'children'),\n",
    "    [Input('basic-interactions', 'clickData')])\n",
    "def display_click_data(clickData):\n",
    "    # Similarly for data when you click on a point\n",
    "    return json.dumps(clickData, indent=2)\n",
    "\n",
    "\n",
    "@app.callback(\n",
    "    Output('selected-data', 'children'),\n",
    "    [Input('basic-interactions', 'selectedData')])\n",
    "def display_selected_data(selectedData):\n",
    "    # Similarly for data when you select a region\n",
    "    return json.dumps(selectedData, indent=2)\n",
    "\n",
    "\n",
    "if __name__ == '__main__':\n",
    "    app.run_server()"
   ]
  },
  {
   "cell_type": "code",
   "execution_count": null,
   "metadata": {},
   "outputs": [],
   "source": []
  }
 ]
}