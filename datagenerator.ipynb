{
 "cells": [
  {
   "cell_type": "code",
   "execution_count": 1,
   "id": "cb4074e1-2329-45b9-8d76-7cbce1778c81",
   "metadata": {},
   "outputs": [],
   "source": [
    "import random\n",
    "import matplotlib.pyplot as plt\n",
    "import pandas"
   ]
  },
  {
   "cell_type": "code",
   "execution_count": 2,
   "id": "ed3dcfc9-fa25-46c7-934e-d14dfce17a9a",
   "metadata": {},
   "outputs": [
    {
     "data": {
      "text/plain": [
       "<function matplotlib.pyplot.show(close=None, block=None)>"
      ]
     },
     "execution_count": 2,
     "metadata": {},
     "output_type": "execute_result"
    },
    {
     "data": {
      "image/png": "[encoded data removed]",
      "text/plain": [
       "<Figure size 432x288 with 1 Axes>"
      ]
     },
     "metadata": {
      "needs_background": "light"
     },
     "output_type": "display_data"
    }
   ],
   "source": [
    "nums = []\n",
    "for i in range(200):\n",
    "    x = random.gauss(mu=100, sigma=200)\n",
    "    nums.append([x, 7, 1, 'A'])\n",
    "df = pandas.DataFrame(nums, columns=['Coke', 'rank', 'sim', 'label'])\n",
    "df.to_csv(\"./data/Coke.csv\", index=False)\n",
    "plt.hist(df['Coke'], bins=100)\n",
    "plt.show"
   ]
  },
  {
   "cell_type": "code",
   "execution_count": 3,
   "id": "738056bd-7c4c-4c56-9ced-56cca25b69b8",
   "metadata": {},
   "outputs": [
    {
     "data": {
      "text/plain": [
       "<function matplotlib.pyplot.show(close=None, block=None)>"
      ]
     },
     "execution_count": 3,
     "metadata": {},
     "output_type": "execute_result"
    },
    {
     "data": {
      "image/png": "[encoded data removed]",
      "text/plain": [
       "<Figure size 432x288 with 1 Axes>"
      ]
     },
     "metadata": {
      "needs_background": "light"
     },
     "output_type": "display_data"
    }
   ],
   "source": [
    "nums = []\n",
    "for i in range(100):\n",
    "    x = random.gauss(mu=200, sigma=10)\n",
    "    nums.append([x, 6, 1, 'B'])\n",
    "df = pandas.DataFrame(nums, columns=['Pepsi', 'rank', 'sim', 'label'])\n",
    "df.to_csv(\"./data/Pepsi.csv\", index=False)\n",
    "plt.hist(df['Pepsi'], bins=100)\n",
    "plt.show"
   ]
  },
  {
   "cell_type": "code",
   "execution_count": 4,
   "id": "4accf945-e258-4e88-8fec-661179dcbf8c",
   "metadata": {},
   "outputs": [
    {
     "data": {
      "text/plain": [
       "<function matplotlib.pyplot.show(close=None, block=None)>"
      ]
     },
     "execution_count": 4,
     "metadata": {},
     "output_type": "execute_result"
    },
    {
     "data": {
      "image/png": "[encoded data removed]",
      "text/plain": [
       "<Figure size 432x288 with 1 Axes>"
      ]
     },
     "metadata": {
      "needs_background": "light"
     },
     "output_type": "display_data"
    }
   ],
   "source": [
    "nums = []\n",
    "for i in range(100):\n",
    "    x = random.gauss(mu=200, sigma=10)\n",
    "    nums.append([x, 5, 1, 'C'])\n",
    "df = pandas.DataFrame(nums, columns=['7Up', 'rank', 'sim', 'label'])\n",
    "df.to_csv(\"./data/7Up.csv\", index=False)\n",
    "plt.hist(df['7Up'], bins=100)\n",
    "plt.show"
   ]
  },
  {
   "cell_type": "code",
   "execution_count": 5,
   "id": "8be4c288-7979-4659-8d63-29628df6ed25",
   "metadata": {},
   "outputs": [
    {
     "data": {
      "text/plain": [
       "<function matplotlib.pyplot.show(close=None, block=None)>"
      ]
     },
     "execution_count": 5,
     "metadata": {},
     "output_type": "execute_result"
    },
    {
     "data": {
      "image/png": "[encoded data removed]",
      "text/plain": [
       "<Figure size 432x288 with 1 Axes>"
      ]
     },
     "metadata": {
      "needs_background": "light"
     },
     "output_type": "display_data"
    }
   ],
   "source": [
    "nums = []\n",
    "for i in range(200):\n",
    "    x = random.gauss(mu=400, sigma=100)\n",
    "    nums.append([x, 4, 1, 'D'])\n",
    "df = pandas.DataFrame(nums, columns=['Sprite', 'rank', 'sim', 'label'])\n",
    "df.to_csv(\"./data/Sprite.csv\", index=False)\n",
    "plt.hist(df['Sprite'], bins=100)\n",
    "plt.show"
   ]
  },
  {
   "cell_type": "code",
   "execution_count": 6,
   "id": "3c5ef3f6-4496-4f33-8433-6d53c97aa906",
   "metadata": {},
   "outputs": [
    {
     "data": {
      "text/plain": [
       "<function matplotlib.pyplot.show(close=None, block=None)>"
      ]
     },
     "execution_count": 6,
     "metadata": {},
     "output_type": "execute_result"
    },
    {
     "data": {
      "image/png": "[encoded data removed]",
      "text/plain": [
       "<Figure size 432x288 with 1 Axes>"
      ]
     },
     "metadata": {
      "needs_background": "light"
     },
     "output_type": "display_data"
    }
   ],
   "source": [
    "nums = []\n",
    "for i in range(100):\n",
    "    x = random.gauss(mu=800, sigma=10)\n",
    "    nums.append([x, 3, 2, 'E'])\n",
    "df = pandas.DataFrame(nums, columns=['Latte', 'rank', 'sim', 'label'])\n",
    "df.to_csv(\"./data/Latte.csv\", index=False)\n",
    "plt.hist(df['Latte'], bins=100)\n",
    "plt.show"
   ]
  },
  {
   "cell_type": "code",
   "execution_count": 7,
   "id": "0d363ead-ca9f-4b49-bddd-5e08df087a37",
   "metadata": {},
   "outputs": [
    {
     "data": {
      "text/plain": [
       "<function matplotlib.pyplot.show(close=None, block=None)>"
      ]
     },
     "execution_count": 7,
     "metadata": {},
     "output_type": "execute_result"
    },
    {
     "data": {
      "image/png": "[encoded data removed]",
      "text/plain": [
       "<Figure size 432x288 with 1 Axes>"
      ]
     },
     "metadata": {
      "needs_background": "light"
     },
     "output_type": "display_data"
    }
   ],
   "source": [
    "nums = []\n",
    "for i in range(100):\n",
    "    x = random.gauss(mu=800, sigma=10)\n",
    "    nums.append([x, 2, 2, 'F'])\n",
    "df = pandas.DataFrame(nums, columns=['Espresso', 'rank', 'sim', 'label'])\n",
    "df.to_csv(\"./data/Espresso.csv\", index=False)\n",
    "plt.hist(df['Espresso'], bins=100)\n",
    "plt.show"
   ]
  },
  {
   "cell_type": "code",
   "execution_count": 8,
   "id": "60a6d7c7-a123-4b4d-a592-485dabb056fc",
   "metadata": {},
   "outputs": [
    {
     "data": {
      "text/plain": [
       "<function matplotlib.pyplot.show(close=None, block=None)>"
      ]
     },
     "execution_count": 8,
     "metadata": {},
     "output_type": "execute_result"
    },
    {
     "data": {
      "image/png": "[encoded data removed]",
      "text/plain": [
       "<Figure size 432x288 with 1 Axes>"
      ]
     },
     "metadata": {
      "needs_background": "light"
     },
     "output_type": "display_data"
    }
   ],
   "source": [
    "nums = []\n",
    "for i in range(200):\n",
    "    x = random.gauss(mu=900, sigma=400)\n",
    "    nums.append([x, 1, 2, 'G'])\n",
    "df = pandas.DataFrame(nums, columns=['Cappuccino', 'rank', 'sim', 'label'])\n",
    "df.to_csv(\"./data/Cappuccino.csv\", index=False)\n",
    "plt.hist(df['Cappuccino'], bins=100)\n",
    "plt.show"
   ]
  },
  {
   "cell_type": "code",
   "execution_count": null,
   "id": "b40c16f2-cf6c-4e11-8f36-69df0b6df10b",
   "metadata": {},
   "outputs": [],
   "source": []
  }
 ],
 "metadata": {
  "kernelspec": {
   "display_name": "Python 3",
   "language": "python",
   "name": "python3"
  },
  "language_info": {
   "codemirror_mode": {
    "name": "ipython",
    "version": 3
   },
   "file_extension": ".py",
   "mimetype": "text/x-python",
   "name": "python",
   "nbconvert_exporter": "python",
   "pygments_lexer": "ipython3",
   "version": "3.8.8"
  }
 },
 "nbformat": 4,
 "nbformat_minor": 5
}
